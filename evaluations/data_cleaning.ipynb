{
 "cells": [
  {
   "cell_type": "code",
   "execution_count": 5,
   "metadata": {},
   "outputs": [],
   "source": [
    "# Let's write a function that reads the content of a file, changes colons to dashes \n",
    "# after the 30th character in each line, and writes the modified content back.\n",
    "\n",
    "def replace_colon_after_length(file_path, char_limit=30):\n",
    "    # Open the file for reading\n",
    "    with open(file_path, 'r') as file:\n",
    "        lines = file.readlines()\n",
    "\n",
    "    # Create a list to store the modified lines\n",
    "    modified_lines = []\n",
    "\n",
    "    # Process each line\n",
    "    for i, line in enumerate(lines):\n",
    "        if i == 0:\n",
    "            # Add the first line without modification\n",
    "            modified_lines.append(line)\n",
    "        else:\n",
    "        # If the line is shorter than the character limit, no need to modify it\n",
    "            if len(line) > char_limit:\n",
    "                # Split the line into two parts: before and after the character limit\n",
    "                before_limit = line[:char_limit]\n",
    "                after_limit = line[char_limit:]\n",
    "                \n",
    "                # Replace all colons with dashes in the part after the limit\n",
    "                after_limit = after_limit.replace(\":\", \"-\")\n",
    "                \n",
    "                # Reconstruct the line and add it to the list of modified lines\n",
    "                modified_line = before_limit + after_limit\n",
    "                modified_lines.append(modified_line)\n",
    "            else:\n",
    "                # If the line is too short, just add it as it is\n",
    "                modified_lines.append(line)\n",
    "\n",
    "    # Write the modified lines back to the file\n",
    "    with open(file_path, 'w') as file:\n",
    "        file.writelines(modified_lines)\n",
    "\n",
    "# To apply this function, you'd call it with the path to your file\n",
    "# For example: replace_colon_after_length('example.txt')"
   ]
  },
  {
   "cell_type": "code",
   "execution_count": 9,
   "metadata": {},
   "outputs": [],
   "source": [
    "replace_colon_after_length('../iol_2004/claude3h/evaluation.txt',29)"
   ]
  }
 ],
 "metadata": {
  "kernelspec": {
   "display_name": "lm_mentor",
   "language": "python",
   "name": "python3"
  },
  "language_info": {
   "codemirror_mode": {
    "name": "ipython",
    "version": 3
   },
   "file_extension": ".py",
   "mimetype": "text/x-python",
   "name": "python",
   "nbconvert_exporter": "python",
   "pygments_lexer": "ipython3",
   "version": "3.10.14"
  }
 },
 "nbformat": 4,
 "nbformat_minor": 2
}
