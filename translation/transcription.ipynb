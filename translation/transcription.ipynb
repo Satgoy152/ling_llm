{
 "cells": [
  {
   "cell_type": "code",
   "execution_count": null,
   "metadata": {},
   "outputs": [],
   "source": [
    "# create json format\n"
   ]
  },
  {
   "cell_type": "code",
   "execution_count": null,
   "metadata": {},
   "outputs": [],
   "source": [
    "###\n",
    "# I want to create a dataset for linguistic problems to then benchmark different LLMS.\n",
    "# I want to store the dataset in json format. \n",
    "\n",
    "# I am getting the data from an international linguistics competition. \n",
    "# I roughly have the idea to split the data by year, and then problems are split by context and the questions themselves\n",
    "# Can you extract the text from this pdf and format it as I described, make sure you maintain the formatting of the characters that is especially important.\n",
    "\n",
    "# For subscripts you can use latex format like S_{r}"
   ]
  }
 ],
 "metadata": {
  "language_info": {
   "name": "python"
  }
 },
 "nbformat": 4,
 "nbformat_minor": 2
}
